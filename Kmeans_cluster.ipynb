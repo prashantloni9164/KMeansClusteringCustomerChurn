{
 "cells": [
  {
   "cell_type": "code",
   "execution_count": 40,
   "metadata": {},
   "outputs": [],
   "source": [
    "import pandas as pd\n",
    "import numpy as np\n",
    "import matplotlib.pyplot as plt\n",
    "from sklearn.cluster import KMeans\n",
    "%matplotlib inline"
   ]
  },
  {
   "cell_type": "code",
   "execution_count": 41,
   "metadata": {},
   "outputs": [],
   "source": [
    "data=pd.read_csv(\"customers.csv\")"
   ]
  },
  {
   "cell_type": "code",
   "execution_count": 42,
   "metadata": {},
   "outputs": [
    {
     "data": {
      "text/html": [
       "<div>\n",
       "<style scoped>\n",
       "    .dataframe tbody tr th:only-of-type {\n",
       "        vertical-align: middle;\n",
       "    }\n",
       "\n",
       "    .dataframe tbody tr th {\n",
       "        vertical-align: top;\n",
       "    }\n",
       "\n",
       "    .dataframe thead th {\n",
       "        text-align: right;\n",
       "    }\n",
       "</style>\n",
       "<table border=\"1\" class=\"dataframe\">\n",
       "  <thead>\n",
       "    <tr style=\"text-align: right;\">\n",
       "      <th></th>\n",
       "      <th>CustomerID</th>\n",
       "      <th>Gender</th>\n",
       "      <th>Age</th>\n",
       "      <th>Annual Income (k$)</th>\n",
       "      <th>Spending Score (1-100)</th>\n",
       "    </tr>\n",
       "  </thead>\n",
       "  <tbody>\n",
       "    <tr>\n",
       "      <th>0</th>\n",
       "      <td>1</td>\n",
       "      <td>Male</td>\n",
       "      <td>19</td>\n",
       "      <td>15</td>\n",
       "      <td>39</td>\n",
       "    </tr>\n",
       "    <tr>\n",
       "      <th>1</th>\n",
       "      <td>2</td>\n",
       "      <td>Male</td>\n",
       "      <td>21</td>\n",
       "      <td>15</td>\n",
       "      <td>81</td>\n",
       "    </tr>\n",
       "    <tr>\n",
       "      <th>2</th>\n",
       "      <td>3</td>\n",
       "      <td>Female</td>\n",
       "      <td>20</td>\n",
       "      <td>16</td>\n",
       "      <td>6</td>\n",
       "    </tr>\n",
       "    <tr>\n",
       "      <th>3</th>\n",
       "      <td>4</td>\n",
       "      <td>Female</td>\n",
       "      <td>23</td>\n",
       "      <td>16</td>\n",
       "      <td>77</td>\n",
       "    </tr>\n",
       "    <tr>\n",
       "      <th>4</th>\n",
       "      <td>5</td>\n",
       "      <td>Female</td>\n",
       "      <td>31</td>\n",
       "      <td>17</td>\n",
       "      <td>40</td>\n",
       "    </tr>\n",
       "  </tbody>\n",
       "</table>\n",
       "</div>"
      ],
      "text/plain": [
       "   CustomerID  Gender  Age  Annual Income (k$)  Spending Score (1-100)\n",
       "0           1    Male   19                  15                      39\n",
       "1           2    Male   21                  15                      81\n",
       "2           3  Female   20                  16                       6\n",
       "3           4  Female   23                  16                      77\n",
       "4           5  Female   31                  17                      40"
      ]
     },
     "execution_count": 42,
     "metadata": {},
     "output_type": "execute_result"
    }
   ],
   "source": [
    "data.head()"
   ]
  },
  {
   "cell_type": "code",
   "execution_count": 5,
   "metadata": {},
   "outputs": [],
   "source": [
    "data2=data.iloc[[2,4]]"
   ]
  },
  {
   "cell_type": "code",
   "execution_count": 17,
   "metadata": {},
   "outputs": [
    {
     "data": {
      "text/html": [
       "<div>\n",
       "<style scoped>\n",
       "    .dataframe tbody tr th:only-of-type {\n",
       "        vertical-align: middle;\n",
       "    }\n",
       "\n",
       "    .dataframe tbody tr th {\n",
       "        vertical-align: top;\n",
       "    }\n",
       "\n",
       "    .dataframe thead th {\n",
       "        text-align: right;\n",
       "    }\n",
       "</style>\n",
       "<table border=\"1\" class=\"dataframe\">\n",
       "  <thead>\n",
       "    <tr style=\"text-align: right;\">\n",
       "      <th></th>\n",
       "      <th>CustomerID</th>\n",
       "      <th>Gender</th>\n",
       "      <th>Age</th>\n",
       "      <th>Annual Income (k$)</th>\n",
       "      <th>Spending Score (1-100)</th>\n",
       "    </tr>\n",
       "  </thead>\n",
       "  <tbody>\n",
       "    <tr>\n",
       "      <th>2</th>\n",
       "      <td>3</td>\n",
       "      <td>Female</td>\n",
       "      <td>20</td>\n",
       "      <td>16</td>\n",
       "      <td>6</td>\n",
       "    </tr>\n",
       "    <tr>\n",
       "      <th>4</th>\n",
       "      <td>5</td>\n",
       "      <td>Female</td>\n",
       "      <td>31</td>\n",
       "      <td>17</td>\n",
       "      <td>40</td>\n",
       "    </tr>\n",
       "  </tbody>\n",
       "</table>\n",
       "</div>"
      ],
      "text/plain": [
       "   CustomerID  Gender  Age  Annual Income (k$)  Spending Score (1-100)\n",
       "2           3  Female   20                  16                       6\n",
       "4           5  Female   31                  17                      40"
      ]
     },
     "execution_count": 17,
     "metadata": {},
     "output_type": "execute_result"
    }
   ],
   "source": [
    "data2"
   ]
  },
  {
   "cell_type": "code",
   "execution_count": 8,
   "metadata": {},
   "outputs": [
    {
     "data": {
      "text/plain": [
       "CustomerID                0\n",
       "Gender                    0\n",
       "Age                       0\n",
       "Annual Income (k$)        0\n",
       "Spending Score (1-100)    0\n",
       "dtype: int64"
      ]
     },
     "execution_count": 8,
     "metadata": {},
     "output_type": "execute_result"
    }
   ],
   "source": [
    "data.isnull().sum()"
   ]
  },
  {
   "cell_type": "code",
   "execution_count": 43,
   "metadata": {
    "scrolled": true
   },
   "outputs": [
    {
     "data": {
      "image/png": "[encoded data removed]",
      "text/plain": [
       "<Figure size 432x288 with 1 Axes>"
      ]
     },
     "metadata": {
      "needs_background": "light"
     },
     "output_type": "display_data"
    }
   ],
   "source": [
    "plt.scatter(data[\"Age\"],data[\"Spending Score (1-100)\"]);"
   ]
  },
  {
   "cell_type": "markdown",
   "metadata": {},
   "source": [
    "# OR"
   ]
  },
  {
   "cell_type": "code",
   "execution_count": 45,
   "metadata": {
    "scrolled": true
   },
   "outputs": [
    {
     "data": {
      "image/png": "[encoded data removed]",
      "text/plain": [
       "<Figure size 432x288 with 1 Axes>"
      ]
     },
     "metadata": {
      "needs_background": "light"
     },
     "output_type": "display_data"
    }
   ],
   "source": [
    "data.plot.scatter(x=\"Age\", y=\"Spending Score (1-100)\");"
   ]
  },
  {
   "cell_type": "code",
   "execution_count": 47,
   "metadata": {},
   "outputs": [],
   "source": [
    "data1=data[[\"Age\",\"Spending Score (1-100)\"]].values"
   ]
  },
  {
   "cell_type": "code",
   "execution_count": 48,
   "metadata": {
    "scrolled": true
   },
   "outputs": [
    {
     "data": {
      "text/plain": [
       "array([[19, 39],\n",
       "       [21, 81],\n",
       "       [20,  6],\n",
       "       [23, 77],\n",
       "       [31, 40],\n",
       "       [22, 76],\n",
       "       [35,  6],\n",
       "       [23, 94],\n",
       "       [64,  3],\n",
       "       [30, 72],\n",
       "       [67, 14],\n",
       "       [35, 99],\n",
       "       [58, 15],\n",
       "       [24, 77],\n",
       "       [37, 13],\n",
       "       [22, 79],\n",
       "       [35, 35],\n",
       "       [20, 66],\n",
       "       [52, 29],\n",
       "       [35, 98],\n",
       "       [35, 35],\n",
       "       [25, 73],\n",
       "       [46,  5],\n",
       "       [31, 73],\n",
       "       [54, 14],\n",
       "       [29, 82],\n",
       "       [45, 32],\n",
       "       [35, 61],\n",
       "       [40, 31],\n",
       "       [23, 87],\n",
       "       [60,  4],\n",
       "       [21, 73],\n",
       "       [53,  4],\n",
       "       [18, 92],\n",
       "       [49, 14],\n",
       "       [21, 81],\n",
       "       [42, 17],\n",
       "       [30, 73],\n",
       "       [36, 26],\n",
       "       [20, 75],\n",
       "       [65, 35],\n",
       "       [24, 92],\n",
       "       [48, 36],\n",
       "       [31, 61],\n",
       "       [49, 28],\n",
       "       [24, 65],\n",
       "       [50, 55],\n",
       "       [27, 47],\n",
       "       [29, 42],\n",
       "       [31, 42],\n",
       "       [49, 52],\n",
       "       [33, 60],\n",
       "       [31, 54],\n",
       "       [59, 60],\n",
       "       [50, 45],\n",
       "       [47, 41],\n",
       "       [51, 50],\n",
       "       [69, 46],\n",
       "       [27, 51],\n",
       "       [53, 46],\n",
       "       [70, 56],\n",
       "       [19, 55],\n",
       "       [67, 52],\n",
       "       [54, 59],\n",
       "       [63, 51],\n",
       "       [18, 59],\n",
       "       [43, 50],\n",
       "       [68, 48],\n",
       "       [19, 59],\n",
       "       [32, 47],\n",
       "       [70, 55],\n",
       "       [47, 42],\n",
       "       [60, 49],\n",
       "       [60, 56],\n",
       "       [59, 47],\n",
       "       [26, 54],\n",
       "       [45, 53],\n",
       "       [40, 48],\n",
       "       [23, 52],\n",
       "       [49, 42],\n",
       "       [57, 51],\n",
       "       [38, 55],\n",
       "       [67, 41],\n",
       "       [46, 44],\n",
       "       [21, 57],\n",
       "       [48, 46],\n",
       "       [55, 58],\n",
       "       [22, 55],\n",
       "       [34, 60],\n",
       "       [50, 46],\n",
       "       [68, 55],\n",
       "       [18, 41],\n",
       "       [48, 49],\n",
       "       [40, 40],\n",
       "       [32, 42],\n",
       "       [24, 52],\n",
       "       [47, 47],\n",
       "       [27, 50],\n",
       "       [48, 42],\n",
       "       [20, 49],\n",
       "       [23, 41],\n",
       "       [49, 48],\n",
       "       [67, 59],\n",
       "       [26, 55],\n",
       "       [49, 56],\n",
       "       [21, 42],\n",
       "       [66, 50],\n",
       "       [54, 46],\n",
       "       [68, 43],\n",
       "       [66, 48],\n",
       "       [65, 52],\n",
       "       [19, 54],\n",
       "       [38, 42],\n",
       "       [19, 46],\n",
       "       [18, 48],\n",
       "       [19, 50],\n",
       "       [63, 43],\n",
       "       [49, 59],\n",
       "       [51, 43],\n",
       "       [50, 57],\n",
       "       [27, 56],\n",
       "       [38, 40],\n",
       "       [40, 58],\n",
       "       [39, 91],\n",
       "       [23, 29],\n",
       "       [31, 77],\n",
       "       [43, 35],\n",
       "       [40, 95],\n",
       "       [59, 11],\n",
       "       [38, 75],\n",
       "       [47,  9],\n",
       "       [39, 75],\n",
       "       [25, 34],\n",
       "       [31, 71],\n",
       "       [20,  5],\n",
       "       [29, 88],\n",
       "       [44,  7],\n",
       "       [32, 73],\n",
       "       [19, 10],\n",
       "       [35, 72],\n",
       "       [57,  5],\n",
       "       [32, 93],\n",
       "       [28, 40],\n",
       "       [32, 87],\n",
       "       [25, 12],\n",
       "       [28, 97],\n",
       "       [48, 36],\n",
       "       [32, 74],\n",
       "       [34, 22],\n",
       "       [34, 90],\n",
       "       [43, 17],\n",
       "       [39, 88],\n",
       "       [44, 20],\n",
       "       [38, 76],\n",
       "       [47, 16],\n",
       "       [27, 89],\n",
       "       [37,  1],\n",
       "       [30, 78],\n",
       "       [34,  1],\n",
       "       [30, 73],\n",
       "       [56, 35],\n",
       "       [29, 83],\n",
       "       [19,  5],\n",
       "       [31, 93],\n",
       "       [50, 26],\n",
       "       [36, 75],\n",
       "       [42, 20],\n",
       "       [33, 95],\n",
       "       [36, 27],\n",
       "       [32, 63],\n",
       "       [40, 13],\n",
       "       [28, 75],\n",
       "       [36, 10],\n",
       "       [36, 92],\n",
       "       [52, 13],\n",
       "       [30, 86],\n",
       "       [58, 15],\n",
       "       [27, 69],\n",
       "       [59, 14],\n",
       "       [35, 90],\n",
       "       [37, 32],\n",
       "       [32, 86],\n",
       "       [46, 15],\n",
       "       [29, 88],\n",
       "       [41, 39],\n",
       "       [30, 97],\n",
       "       [54, 24],\n",
       "       [28, 68],\n",
       "       [41, 17],\n",
       "       [36, 85],\n",
       "       [34, 23],\n",
       "       [32, 69],\n",
       "       [33,  8],\n",
       "       [38, 91],\n",
       "       [47, 16],\n",
       "       [35, 79],\n",
       "       [45, 28],\n",
       "       [32, 74],\n",
       "       [32, 18],\n",
       "       [30, 83]], dtype=int64)"
      ]
     },
     "execution_count": 48,
     "metadata": {},
     "output_type": "execute_result"
    }
   ],
   "source": [
    "data1"
   ]
  },
  {
   "cell_type": "code",
   "execution_count": 49,
   "metadata": {},
   "outputs": [],
   "source": [
    "i=[]\n",
    "for n in range(1,11):\n",
    "    k_m=KMeans(n_clusters=n)\n",
    "    k_m.fit(data1)\n",
    "    i.append(k_m.inertia_)"
   ]
  },
  {
   "cell_type": "code",
   "execution_count": 15,
   "metadata": {},
   "outputs": [
    {
     "data": {
      "text/plain": [
       "[171535.50000000003,\n",
       " 75949.15601023012,\n",
       " 45840.67661610871,\n",
       " 28165.583566629342,\n",
       " 23830.960393772897,\n",
       " 19486.25609681772,\n",
       " 15523.684014328754,\n",
       " 13006.483628851032,\n",
       " 11503.028590077356,\n",
       " 10380.026734330773]"
      ]
     },
     "execution_count": 15,
     "metadata": {},
     "output_type": "execute_result"
    }
   ],
   "source": [
    "i"
   ]
  },
  {
   "cell_type": "code",
   "execution_count": 51,
   "metadata": {},
   "outputs": [
    {
     "data": {
      "text/plain": [
       "<AxesSubplot:>"
      ]
     },
     "execution_count": 51,
     "metadata": {},
     "output_type": "execute_result"
    },
    {
     "data": {
      "image/png": "[encoded data removed]",
      "text/plain": [
       "<Figure size 432x288 with 1 Axes>"
      ]
     },
     "metadata": {
      "needs_background": "light"
     },
     "output_type": "display_data"
    }
   ],
   "source": [
    "pd.DataFrame(i).plot()"
   ]
  },
  {
   "cell_type": "code",
   "execution_count": 58,
   "metadata": {},
   "outputs": [],
   "source": [
    "k_m=KMeans(n_clusters=4)\n",
    "k_m.fit(data1)\n",
    "labeles=k_m.labels_"
   ]
  },
  {
   "cell_type": "code",
   "execution_count": 59,
   "metadata": {},
   "outputs": [
    {
     "data": {
      "text/plain": [
       "array([1, 0, 3, 0, 1, 0, 3, 0, 3, 0, 3, 0, 3, 0, 3, 0, 1, 1, 3, 0, 1, 0,\n",
       "       3, 0, 3, 0, 3, 1, 3, 0, 3, 0, 3, 0, 3, 0, 3, 0, 3, 0, 2, 0, 2, 1,\n",
       "       3, 1, 2, 1, 1, 1, 2, 1, 1, 2, 2, 2, 2, 2, 1, 2, 2, 1, 2, 2, 2, 1,\n",
       "       2, 2, 1, 1, 2, 2, 2, 2, 2, 1, 2, 1, 1, 2, 2, 1, 2, 2, 1, 2, 2, 1,\n",
       "       1, 2, 2, 1, 2, 1, 1, 1, 2, 1, 2, 1, 1, 2, 2, 1, 2, 1, 2, 2, 2, 2,\n",
       "       2, 1, 1, 1, 1, 1, 2, 2, 2, 2, 1, 1, 1, 0, 1, 0, 2, 0, 3, 0, 3, 0,\n",
       "       1, 0, 3, 0, 3, 0, 3, 0, 3, 0, 1, 0, 3, 0, 2, 0, 3, 0, 3, 0, 3, 0,\n",
       "       3, 0, 3, 0, 3, 0, 2, 0, 3, 0, 3, 0, 3, 0, 3, 1, 3, 0, 3, 0, 3, 0,\n",
       "       3, 0, 3, 0, 3, 0, 3, 0, 1, 0, 3, 0, 3, 0, 3, 0, 3, 0, 3, 0, 3, 0,\n",
       "       3, 0])"
      ]
     },
     "execution_count": 59,
     "metadata": {},
     "output_type": "execute_result"
    }
   ],
   "source": [
    "lables"
   ]
  },
  {
   "cell_type": "code",
   "execution_count": null,
   "metadata": {},
   "outputs": [],
   "source": [
    "clusters=data[['Age','Spending Score (1-100)']]"
   ]
  },
  {
   "cell_type": "code",
   "execution_count": 63,
   "metadata": {},
   "outputs": [],
   "source": [
    "clusters=clusters.assign(cluster=lables)"
   ]
  },
  {
   "cell_type": "code",
   "execution_count": 65,
   "metadata": {},
   "outputs": [
    {
     "data": {
      "text/plain": [
       "<AxesSubplot:xlabel='Age', ylabel='Spending Score (1-100)'>"
      ]
     },
     "execution_count": 65,
     "metadata": {},
     "output_type": "execute_result"
    },
    {
     "data": {
      "image/png": "[encoded data removed]",
      "text/plain": [
       "<Figure size 432x288 with 2 Axes>"
      ]
     },
     "metadata": {
      "needs_background": "light"
     },
     "output_type": "display_data"
    }
   ],
   "source": [
    "clusters.plot.scatter(x='Age',y='Spending Score (1-100)',c='cluster',colormap='jet')"
   ]
  }
 ],
 "metadata": {
  "kernelspec": {
   "display_name": "Python 3",
   "language": "python",
   "name": "python3"
  },
  "language_info": {
   "codemirror_mode": {
    "name": "ipython",
    "version": 3
   },
   "file_extension": ".py",
   "mimetype": "text/x-python",
   "name": "python",
   "nbconvert_exporter": "python",
   "pygments_lexer": "ipython3",
   "version": "3.8.5"
  }
 },
 "nbformat": 4,
 "nbformat_minor": 4
}
